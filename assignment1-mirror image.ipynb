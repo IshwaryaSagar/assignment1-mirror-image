{
 "cells": [
  {
   "cell_type": "code",
   "execution_count": 5,
   "id": "6e19b666",
   "metadata": {},
   "outputs": [
    {
     "name": "stdout",
     "output_type": "stream",
     "text": [
      "input a word you want to reverse::123\n",
      "3\t\n",
      "2\t\n",
      "1\t\n"
     ]
    }
   ],
   "source": [
    "reverse=input(\"input a word you want to reverse::\")\n",
    "for char in range(len(reverse)-1,-1,-1):\n",
    "    print(reverse[char],end=\"\")\n",
    "    print(\"\\t\")\n",
    "    "
   ]
  },
  {
   "cell_type": "code",
   "execution_count": 6,
   "id": "24a10d7a",
   "metadata": {},
   "outputs": [
    {
     "name": "stdout",
     "output_type": "stream",
     "text": [
      "enter your text:ishu\n",
      "uhsi\n"
     ]
    }
   ],
   "source": [
    "a=input(\"enter your text:\")\n",
    "b=a[ : :-1]\n",
    "print(b)"
   ]
  },
  {
   "cell_type": "code",
   "execution_count": null,
   "id": "887dc36e",
   "metadata": {},
   "outputs": [],
   "source": []
  }
 ],
 "metadata": {
  "kernelspec": {
   "display_name": "Python 3 (ipykernel)",
   "language": "python",
   "name": "python3"
  },
  "language_info": {
   "codemirror_mode": {
    "name": "ipython",
    "version": 3
   },
   "file_extension": ".py",
   "mimetype": "text/x-python",
   "name": "python",
   "nbconvert_exporter": "python",
   "pygments_lexer": "ipython3",
   "version": "3.9.7"
  }
 },
 "nbformat": 4,
 "nbformat_minor": 5
}
